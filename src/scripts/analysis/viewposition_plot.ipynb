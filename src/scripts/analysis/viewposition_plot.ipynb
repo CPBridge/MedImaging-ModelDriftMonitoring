{
 "cells": [
  {
   "cell_type": "code",
   "execution_count": 1,
   "metadata": {},
   "outputs": [],
   "source": [
    "import sys\n",
    "sys.path.append('/autofs/homes/005/fd881/repos/MedImaging-ModelDriftMonitoring/src')"
   ]
  },
  {
   "cell_type": "code",
   "execution_count": 2,
   "metadata": {},
   "outputs": [],
   "source": [
    "import pandas as pd\n",
    "import os\n",
    "from model_drift import mgb_locations\n",
    "import matplotlib.pyplot as plt\n",
    "from datetime import timedelta\n",
    "import seaborn as sns"
   ]
  },
  {
   "cell_type": "code",
   "execution_count": 3,
   "metadata": {},
   "outputs": [],
   "source": [
    "# Function to generate windows\n",
    "def generate_windows(start_date, end_date, window_size_days=14, stride_days=1):\n",
    "    current_end = start_date\n",
    "    while current_end <= end_date:\n",
    "        yield start_date, current_end\n",
    "        current_end += timedelta(days=stride_days)\n",
    "        if (current_end - start_date).days > window_size_days:\n",
    "            start_date += timedelta(days=stride_days)"
   ]
  },
  {
   "cell_type": "code",
   "execution_count": 4,
   "metadata": {},
   "outputs": [],
   "source": [
    "label_cols = ['Atelectasis', 'Cardiomegaly', 'Edema', 'Lung Opacity', 'Pleural Other', 'Pleural Effusion', 'Pneumonia', 'Pneumothorax', 'Support Devices', ]"
   ]
  },
  {
   "cell_type": "code",
   "execution_count": 5,
   "metadata": {},
   "outputs": [],
   "source": [
    "labels_df = pd.read_csv(\n",
    "    mgb_locations.labels_csv,\n",
    ")\n",
    "labels_df['StudyDate'] = pd.to_datetime(labels_df['StudyDate'])\n",
    "labels_df['StudyDate'] = labels_df['StudyDate'].dt.date"
   ]
  },
  {
   "cell_type": "code",
   "execution_count": 6,
   "metadata": {},
   "outputs": [],
   "source": [
    "# read jsonl file from pred_folder in df\n",
    "pred_folder = '/autofs/cluster/qtim/projects/xray_drift/inferences/classification_final_allpoc_inference_woconsolidation/'\n",
    "\n",
    "df_preds = pd.read_json(os.path.join(pred_folder, 'preds.jsonl'), lines=True)\n",
    "df_preds = pd.concat(\n",
    "    [\n",
    "        df_preds,\n",
    "        pd.DataFrame(df_preds['activation'].values.tolist(), columns=[f\"activation.{c}\" for c in label_cols])\n",
    "    ],\n",
    "    axis=1\n",
    ")\n",
    "\n",
    "df_preds = pd.concat(\n",
    "    [\n",
    "        df_preds,\n",
    "        pd.DataFrame(df_preds['label'].values.tolist(), columns=[f\"label.{c}\" for c in label_cols])\n",
    "    ],\n",
    "    axis=1\n",
    ")"
   ]
  },
  {
   "cell_type": "code",
   "execution_count": 7,
   "metadata": {},
   "outputs": [],
   "source": [
    "df_dicom = pd.read_csv(mgb_locations.dicom_inventory_csv)\n",
    "\n",
    "def make_index(row: pd.Series):\n",
    "    return f\"{row.PatientID}_{row.AccessionNumber}_{row.SOPInstanceUID}\"\n",
    "\n",
    "# df_dicom only has anonimized dates, so we are pulling them from labels\n",
    "study_dates = labels_df[['StudyInstanceUID','StudyDate']].copy()\n",
    "\n",
    "df_dicom.drop(columns=[\"StudyDate\"], inplace=True)\n",
    "df_dicom = df_dicom.merge(\n",
    "    study_dates,\n",
    "    left_on=\"StudyInstanceUID\",\n",
    "    right_on=\"StudyInstanceUID\",\n",
    ")\n",
    "df_dicom[\"index\"] = df_dicom.apply(make_index, axis=1)\n"
   ]
  },
  {
   "cell_type": "code",
   "execution_count": 8,
   "metadata": {},
   "outputs": [],
   "source": [
    "df_preds = df_preds.merge(\n",
    "    df_dicom,\n",
    "    on=\"index\",\n",
    ")\n",
    "\n",
    "#get accesion number from here\n",
    "crosswalk = pd.read_csv(mgb_locations.crosswalk_csv, dtype={\"ANON_AccNumber\": int})\n",
    "crosswalk = crosswalk[[\"ANON_AccNumber\", \"ORIG_AccNumber\"]]\n",
    "\n",
    "# get other metadata from here\n",
    "reports = pd.read_csv(mgb_locations.reports_csv, dtype=str)\n",
    "reports = reports[\n",
    "    [\n",
    "        \"Accession Number\",\n",
    "        \"Point of Care\",\n",
    "        \"Patient Sex\",\n",
    "        \"Patient Age\",\n",
    "        \"Is Stat\",\n",
    "        \"Exam Code\",\n",
    "    ]\n",
    "].copy()\n",
    "\n",
    "df_preds = df_preds.merge(\n",
    "    crosswalk,\n",
    "    how=\"left\",\n",
    "    left_on=\"AccessionNumber\",\n",
    "    right_on=\"ANON_AccNumber\",\n",
    "    validate=\"many_to_one\",\n",
    ")\n",
    "df_preds = df_preds.merge(\n",
    "    reports,\n",
    "    how=\"left\",\n",
    "    left_on=\"ORIG_AccNumber\",\n",
    "    right_on=\"Accession Number\",\n",
    "    validate=\"many_to_one\",\n",
    ")\n",
    "\n",
    "\n",
    "df_preds['StudyDate'] = pd.to_datetime(df_preds['StudyDate'])\n",
    "df_preds['StudyDate'] = df_preds['StudyDate'].dt.date"
   ]
  },
  {
   "cell_type": "code",
   "execution_count": null,
   "metadata": {},
   "outputs": [],
   "source": [
    "# exclude laterals \n",
    "df_preds = df_preds[df_preds['ViewPosition'] != 'LL']\n",
    "df_preds['ViewPosition'].value_counts()\n"
   ]
  },
  {
   "cell_type": "code",
   "execution_count": 10,
   "metadata": {},
   "outputs": [],
   "source": [
    "# make a new label for point of care that combines all the OPs\n",
    "df_preds['Point of Care_combined'] = df_preds['Point of Care'].apply(lambda x: 'MGH IMG XR OPX' if 'OP' in x else x)"
   ]
  },
  {
   "cell_type": "code",
   "execution_count": null,
   "metadata": {},
   "outputs": [],
   "source": [
    "# look at one specific site \n",
    "\n",
    "site = 'MGH IMG XR OP YAW6'\n",
    "site_disp = site.replace(' ', '~')\n",
    "\n",
    "print(df_preds['Point of Care'].value_counts())\n",
    "\n",
    "#df_er = df_preds[df_preds['Point of Care'] == site].copy()\n",
    "df_er = df_preds.copy()\n",
    "\n",
    "\n",
    "df_er['StudyDate'] = pd.to_datetime(df_er['StudyDate'])\n",
    "df_er.set_index('StudyDate', inplace=True)\n"
   ]
  },
  {
   "cell_type": "code",
   "execution_count": null,
   "metadata": {},
   "outputs": [],
   "source": [
    "exam_counts = {}\n",
    "\n",
    "# Get the overall start and end dates\n",
    "start_date = df_er.index.min()\n",
    "end_date = df_er.index.max()\n",
    "\n",
    "window_size_days = 30 \n",
    "# Loop through each time window and count exams\n",
    "for window_start, window_end in generate_windows(start_date, end_date, window_size_days=window_size_days):\n",
    "    window_data = df_er[(df_er.index >= window_start) & (df_er.index < window_end)]\n",
    "    count = window_data.shape[0]/window_size_days  # Count the number of rows (exams) in the window, normalized by window size\n",
    "    exam_counts[window_start] = {'ExamCount': count}\n",
    "\n",
    "# Convert the exam counts dictionary to a DataFrame\n",
    "exam_counts_df = pd.DataFrame(exam_counts).T\n",
    "\n",
    "# If needed, fill missing values with 0\n",
    "exam_counts_df.fillna(0, inplace=True)\n",
    "\n",
    "# Display the resulting DataFrame\n",
    "plt.figure(figsize=(10, 6))  # Set the figure size for better readability\n",
    "\n",
    "plt.plot(exam_counts_df.index, exam_counts_df['ExamCount'])\n",
    "\n",
    "plt.title(f'Exams per day at $\\mathbf{{{site_disp}}}$')\n",
    "plt.xlabel('Window Start Date')\n",
    "plt.ylabel('Count per Day')\n",
    "plt.xticks(rotation=45)  \n",
    "plt.tight_layout()  \n",
    "\n",
    "\n",
    "plt.show()\n"
   ]
  },
  {
   "cell_type": "code",
   "execution_count": null,
   "metadata": {},
   "outputs": [],
   "source": [
    "parameter = 'ViewPosition'\n",
    "\n",
    "\n",
    "# check the machines used\n",
    "print(df_er[parameter].value_counts())\n",
    "\n",
    "# Get the overall start and end dates\n",
    "start_date = df_er.index.min()\n",
    "end_date = df_er.index.max()\n",
    "\n",
    "proportion_data = {}\n",
    "\n",
    "for window_start, window_end in generate_windows(start_date, end_date, window_size_days=30):\n",
    "    window_data = df_er[(df_er.index >= window_start) & (df_er.index < window_end)]\n",
    "    proportions = window_data[parameter].value_counts(normalize=False)\n",
    "    proportion_data[window_end] = proportions/30\n",
    "    \n",
    "machine_df = pd.DataFrame(proportion_data).T\n",
    "\n",
    "machine_df.fillna(0, inplace=True)\n"
   ]
  },
  {
   "cell_type": "code",
   "execution_count": null,
   "metadata": {},
   "outputs": [],
   "source": [
    "# drop the Fluorospot, which has only two non nans rows\n",
    "\n",
    "#count non nans in each column\n",
    "print(machine_df.count())\n",
    "\n",
    "#machine_df.drop(columns=['Fluorospot Compact FD'], inplace=True, errors='ignore')"
   ]
  },
  {
   "cell_type": "code",
   "execution_count": null,
   "metadata": {},
   "outputs": [],
   "source": [
    "machine_df"
   ]
  },
  {
   "cell_type": "code",
   "execution_count": null,
   "metadata": {},
   "outputs": [],
   "source": [
    "plt.figure(figsize=(10, 6))\n",
    "\n",
    "palettes = ['deep', 'bright', 'pastel', 'muted', 'dark', 'colorblind']\n",
    "colors = []\n",
    "\n",
    "machine_df_prop = machine_df.div(machine_df.sum(axis=1), axis=0).copy()\n",
    "for pal in palettes:\n",
    "    # Extend the color list with colors from each palette\n",
    "    palette_colors = sns.color_palette(pal)\n",
    "    if pal == 'deep':\n",
    "        # Swap the first two colors\n",
    "        palette_colors[0], palette_colors[1] = palette_colors[1], palette_colors[0]\n",
    "    colors.extend(palette_colors)\n",
    "\n",
    "plt.stackplot(machine_df_prop.index, *machine_df_prop.T.values, labels=machine_df_prop.columns, colors=colors)\n",
    "plt.xlim(machine_df_prop.index.min(), machine_df_prop.index.max())\n",
    "plt.ylim(0, 1)  \n",
    "\n",
    "#plt.title(f'{parameter} over Time at $\\mathbf{{{site_disp}}}$')\n",
    "plt.title(f'{parameter} over Time ')\n",
    "\n",
    "# make a vertical line at March 18 2020\n",
    "plt.axvline(pd.to_datetime('2020-03-10'), color='darkgray', linestyle='--', label='March 10, 2020')\n",
    "plt.xlabel('Window End Date')\n",
    "plt.ylabel('Proportion')\n",
    "plt.xticks(rotation=45)\n",
    "plt.legend()  \n",
    "plt.tight_layout()\n",
    "\n",
    "# Set x-axis limits to start from November 2019\n",
    "plt.xlim(pd.to_datetime('2019-11-01'), machine_df_prop.index.max())\n",
    "\n",
    "# Set x-axis ticks every 2 months\n",
    "start_date = pd.to_datetime('2019-11-01')\n",
    "end_date = machine_df_prop.index.max()\n",
    "date_range = pd.date_range(start=start_date, end=end_date, freq='2MS')\n",
    "plt.xticks(date_range, date_range.strftime('%Y-%m'), rotation=45)\n",
    "\n",
    "#plt.savefig(os.path.join(output_dir, 'view_position_over_time.png'))\n",
    "plt.savefig('view_position_over_time.png')\n",
    "\n",
    "\n",
    "plt.show()"
   ]
  },
  {
   "cell_type": "code",
   "execution_count": 17,
   "metadata": {},
   "outputs": [],
   "source": [
    "df_cardiomegaly_perf = pd.read_csv(\"/autofs/cluster/qtim/projects/xray_drift/drift_analyses/PLOTS/paper/drift_analysis_allpoc_emd_jackknife_helllinger_final_florence_PLOTS/performance_Cardiomegaly.csv\")"
   ]
  },
  {
   "cell_type": "code",
   "execution_count": null,
   "metadata": {},
   "outputs": [],
   "source": [
    "# Create a figure with two subplots, one above the other\n",
    "fig, (ax1, ax2) = plt.subplots(2, 1, figsize=(12, 12), sharex=True)\n",
    "\n",
    "# Plot device proportion on the top subplot\n",
    "ax1.stackplot(machine_df_prop.index, *machine_df_prop.T.values, labels=machine_df_prop.columns, colors=colors)\n",
    "ax1.set_ylim(0, 1)\n",
    "ax1.set_title(f'{parameter} over Time')\n",
    "ax1.axvline(pd.to_datetime('2020-03-10'), color='#5088A1', linestyle='--')\n",
    "ax1.axvline(pd.to_datetime('2020-01-01'), color='darkblue', linestyle='--')\n",
    "\n",
    "ax1.set_ylabel('Proportion')\n",
    "ax1.legend(loc='upper right')#, bbox_to_anchor=(1, 0.5))\n",
    "\n",
    "# Plot performance on the bottom subplot\n",
    "ax2.plot(pd.to_datetime(df_cardiomegaly_perf['date']), df_cardiomegaly_perf['auroc'], label='AUROC')\n",
    "ax2.set_title('Cardiomegaly Performance over Time')\n",
    "ax2.set_ylabel('AUROC')\n",
    "\n",
    "# Set x-axis limits and ticks\n",
    "start_date = pd.to_datetime('2019-11-01')\n",
    "end_date = machine_df_prop.index.max()\n",
    "date_range = pd.date_range(start=start_date, end=end_date, freq='2MS')\n",
    "ax2.set_xlim(start_date, end_date)\n",
    "ax2.set_xticks(date_range)\n",
    "ax2.set_xticklabels(date_range.strftime('%Y-%m'), rotation=45, ha='right')\n",
    "# Add the same vertical line to the performance plot\n",
    "\n",
    "ax2.axvline(pd.to_datetime('2020-03-10'), color='#5088A1', linestyle='--')\n",
    "ax2.axvline(pd.to_datetime('2020-01-01'), color='darkblue', linestyle='--')\n",
    "\n",
    "\n",
    "# Adjust the legend to include the vertical line\n",
    "handles, labels = ax2.get_legend_handles_labels()\n",
    "ax2.legend(handles=handles, labels=labels, loc='upper right')\n",
    "\n",
    "\n",
    "# Adjust layout and save figure\n",
    "output_dir = '/autofs/cluster/qtim/projects/xray_drift/drift_analyses/PLOTS/paper/drift_analysis_allpoc_emd_jackknife_helllinger_final_florence_PLOTS/'\n",
    "plt.tight_layout()\n",
    "plt.savefig(os.path.join(output_dir, 'ViewPosition_time_performance.png'), dpi=600, bbox_inches='tight')\n",
    "plt.show()"
   ]
  }
 ],
 "metadata": {
  "kernelspec": {
   "display_name": "med-image-drift",
   "language": "python",
   "name": "python3"
  },
  "language_info": {
   "codemirror_mode": {
    "name": "ipython",
    "version": 3
   },
   "file_extension": ".py",
   "mimetype": "text/x-python",
   "name": "python",
   "nbconvert_exporter": "python",
   "pygments_lexer": "ipython3",
   "version": "3.7.6"
  }
 },
 "nbformat": 4,
 "nbformat_minor": 2
}
