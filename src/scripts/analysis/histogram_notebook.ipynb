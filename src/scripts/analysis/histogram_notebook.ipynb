{
 "cells": [
  {
   "cell_type": "code",
   "execution_count": null,
   "metadata": {},
   "outputs": [],
   "source": [
    "import os\n",
    "import json\n",
    "import plotly.graph_objs as go\n",
    "import json \n",
    "import os\n",
    "from datetime import datetime"
   ]
  },
  {
   "cell_type": "markdown",
   "metadata": {},
   "source": [
    "# Functions"
   ]
  },
  {
   "cell_type": "code",
   "execution_count": null,
   "metadata": {},
   "outputs": [],
   "source": [
    "def parse_date(filename):\n",
    "    try:\n",
    "        return datetime.strptime(filename.split('.')[0], '%Y-%m-%d')\n",
    "    except ValueError as e:\n",
    "        print(f\"Error processing {filename}: {e}\")"
   ]
  },
  {
   "cell_type": "code",
   "execution_count": null,
   "metadata": {},
   "outputs": [],
   "source": [
    "\n",
    "def plot_hist_feature(feature, basepath):\n",
    "    dates = os.listdir(basepath)\n",
    "\n",
    "    #select only the 1st and 15th of each month\n",
    "    dates_parsed = [(date, parse_date(date)) for date in dates if parse_date(date) is not None]\n",
    "    sorted_dates_parsed = sorted(dates_parsed, key=lambda x: x[1])\n",
    "    sorted_dates_filtered = [date for date, date_obj in sorted_dates_parsed if date_obj.day in {1, 15}]\n",
    "\n",
    "    all_categories = set()\n",
    "    for date in sorted_dates_filtered:\n",
    "        date_json = os.path.join(basepath, date)\n",
    "        with open(date_json, 'r') as f:\n",
    "            data = json.load(f)\n",
    "        if \"histogram\" in data[\"drilldowns\"][feature]:\n",
    "            all_categories.update(data[\"drilldowns\"][feature][\"histogram\"][\"x\"])\n",
    "\n",
    "        else:\n",
    "            break\n",
    "    # Convert set to sorted list to maintain order\n",
    "    all_categories = sorted(all_categories)\n",
    "    \n",
    "\n",
    "    #make a figure and add the traces for histogram and kde\n",
    "    fig = go.Figure()\n",
    "    max_y_value = 0\n",
    "    trace_counter = 0\n",
    "    for i, date in enumerate(sorted_dates_filtered):\n",
    "        date_json = os.path.join(basepath, date)\n",
    "\n",
    "        with open(date_json, 'r') as f:\n",
    "            data = json.load(f)\n",
    "\n",
    "        if \"kdehistplot\" in data[\"drilldowns\"][feature]:\n",
    "            # Extract the necessary data\n",
    "            hist = data[\"drilldowns\"][feature][\"kdehistplot\"][\"hist\"]\n",
    "            edges = data[\"drilldowns\"][feature][\"kdehistplot\"][\"plot_edges\"]\n",
    "            centers = data[\"drilldowns\"][feature][\"kdehistplot\"][\"plot_centers\"]\n",
    "            kde_x = data[\"drilldowns\"][feature][\"kdehistplot\"][\"kde_x\"]\n",
    "            kde = data[\"drilldowns\"][feature][\"kdehistplot\"][\"kde\"]\n",
    "\n",
    "            # Add traces for each date\n",
    "            fig.add_trace(\n",
    "                go.Bar(x=centers, y=hist, marker=dict(color='blue'), name=f'Histogram', opacity=0.75, visible=(i == 0))\n",
    "            )\n",
    "            fig.add_trace(\n",
    "                go.Scatter(x=kde_x, y=kde, mode='lines', line=dict(color='red'), name=f'KDE', visible=(i == 0))\n",
    "            )\n",
    "            trace_counter += 2\n",
    "            max_hist_value = max(hist)\n",
    "            max_kde_value = max(kde)\n",
    "            max_y_value = max(max_y_value, max_hist_value, max_kde_value)\n",
    "\n",
    "        else:\n",
    "            # Categorical data processing\n",
    "            #x = data[\"drilldowns\"][feature][\"histogram\"][\"x\"]\n",
    "            probability = data[\"drilldowns\"][feature][\"histogram\"][\"probability\"]\n",
    "            category_data = {cat: 0 for cat in all_categories}  # Initialize all categories with 0\n",
    "            for cat, prob in zip(data[\"drilldowns\"][feature][\"histogram\"][\"x\"], probability):\n",
    "                category_data[cat] = prob\n",
    "\n",
    "            fig.add_trace(\n",
    "                go.Bar(x=list(category_data.keys()), y=list(category_data.values()), marker=dict(color='blue'), name=f'Category Probability {date}', visible=(i == 0))\n",
    "            )\n",
    "            trace_counter += 1\n",
    "            max_y_value = max(max_y_value, max(probability))\n",
    "\n",
    "    # Create steps for the slider\n",
    "    steps = []\n",
    "    visibility_array = [False] * trace_counter\n",
    "\n",
    "    current_trace_index = 0\n",
    "    for i, date in enumerate(sorted_dates_filtered):\n",
    "        visible = visibility_array[:]\n",
    "        data = json.load(open(os.path.join(basepath, sorted_dates_filtered[i]), 'r'))\n",
    "        if \"kdehistplot\" in data[\"drilldowns\"][feature]:\n",
    "            visible[current_trace_index] = True\n",
    "            visible[current_trace_index + 1] = True\n",
    "            current_trace_index += 2\n",
    "        else:\n",
    "            visible[current_trace_index] = True\n",
    "            current_trace_index += 1\n",
    "\n",
    "        steps.append({\n",
    "            'method': 'update',\n",
    "            'args': [{'visible': visible}, {'title': f\"Histogram for {feature} on {date.split('.')[0]}\"}],\n",
    "            'label': date.split('.')[0]\n",
    "        })\n",
    "    # Create and add slider\n",
    "    sliders = [dict(\n",
    "        active=0,\n",
    "        currentvalue={\"prefix\": \"Date: \"},\n",
    "        pad={\"t\": 50},\n",
    "        steps=steps\n",
    "    )]\n",
    "\n",
    "    fig.update_layout(\n",
    "        sliders=sliders,\n",
    "        title_text=f\"Histogram for {feature} on \" + sorted_dates_filtered[0],\n",
    "        height=600,\n",
    "        width=1000,\n",
    "        title_x=0.5, \n",
    "        title_y=0.9,\n",
    "    )\n",
    "    fig.update_yaxes(range=[0, max_y_value])\n",
    "\n",
    "    fig.write_html(f'{feature}_histogram_interactive.html')\n",
    "    fig.show()"
   ]
  },
  {
   "cell_type": "markdown",
   "metadata": {},
   "source": [
    "# Analysis"
   ]
  },
  {
   "cell_type": "code",
   "execution_count": null,
   "metadata": {},
   "outputs": [],
   "source": [
    "basepath = '/autofs/cluster/qtim/projects/xray_drift/drift_analyses/classification_final_allpoc_standarddrift/history/'\n"
   ]
  },
  {
   "cell_type": "code",
   "execution_count": null,
   "metadata": {},
   "outputs": [],
   "source": [
    "date_json = os.path.join(basepath, '2020-07-03.json')\n",
    "with open(date_json, 'r') as f:\n",
    "    data = json.load(f)\n",
    "\n",
    "data['drilldowns'].keys()\n"
   ]
  },
  {
   "cell_type": "code",
   "execution_count": null,
   "metadata": {},
   "outputs": [],
   "source": [
    "plot_hist_feature('Point of Care', basepath)"
   ]
  }
 ],
 "metadata": {
  "kernelspec": {
   "display_name": "med-image-drift",
   "language": "python",
   "name": "python3"
  },
  "language_info": {
   "codemirror_mode": {
    "name": "ipython",
    "version": 3
   },
   "file_extension": ".py",
   "mimetype": "text/x-python",
   "name": "python",
   "nbconvert_exporter": "python",
   "pygments_lexer": "ipython3",
   "version": "3.7.6"
  }
 },
 "nbformat": 4,
 "nbformat_minor": 2
}
