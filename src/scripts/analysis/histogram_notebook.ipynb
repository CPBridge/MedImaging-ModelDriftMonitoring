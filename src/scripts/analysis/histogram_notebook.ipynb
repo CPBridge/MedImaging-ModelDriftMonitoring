{
 "cells": [
  {
   "cell_type": "code",
   "execution_count": 2,
   "metadata": {},
   "outputs": [],
   "source": [
    "import os\n",
    "import json\n",
    "import plotly.graph_objs as go\n",
    "import json \n",
    "import os\n",
    "from datetime import datetime\n",
    "from pathlib import Path\n"
   ]
  },
  {
   "cell_type": "markdown",
   "metadata": {},
   "source": [
    "# Functions"
   ]
  },
  {
   "cell_type": "code",
   "execution_count": 51,
   "metadata": {},
   "outputs": [],
   "source": [
    "def parse_date(filename):\n",
    "    try:\n",
    "        return datetime.strptime(filename.split('.')[0], '%Y-%m-%d')\n",
    "    except ValueError as e:\n",
    "        pass"
   ]
  },
  {
   "cell_type": "code",
   "execution_count": 48,
   "metadata": {},
   "outputs": [],
   "source": [
    "\n",
    "def plot_hist_feature(feature, basepath, output_dir):\n",
    "    dates = os.listdir(basepath)\n",
    "\n",
    "    #select only the 1st and 15th of each month\n",
    "    dates_parsed = [(date, parse_date(date)) for date in dates if parse_date(date) is not None]\n",
    "    sorted_dates_parsed = sorted(dates_parsed, key=lambda x: x[1])\n",
    "    sorted_dates_filtered = [date for date, date_obj in sorted_dates_parsed if date_obj.day in {1, 15}]\n",
    "\n",
    "    all_categories = set()\n",
    "    for date in sorted_dates_filtered:\n",
    "        date_json = os.path.join(basepath, date)\n",
    "        with open(date_json, 'r') as f:\n",
    "            data = json.load(f)\n",
    "        if \"histogram\" in data[\"drilldowns\"][feature]:\n",
    "            all_categories.update(data[\"drilldowns\"][feature][\"histogram\"][\"x\"])\n",
    "\n",
    "        else:\n",
    "            break\n",
    "    # Convert set to sorted list to maintain order\n",
    "    all_categories = sorted(all_categories)\n",
    "    \n",
    "\n",
    "    #make a figure and add the traces for histogram and kde\n",
    "    fig = go.Figure()\n",
    "    max_y_value = 0\n",
    "    trace_counter = 0\n",
    "    for i, date in enumerate(sorted_dates_filtered):\n",
    "        date_json = os.path.join(basepath, date)\n",
    "\n",
    "        with open(date_json, 'r') as f:\n",
    "            data = json.load(f)\n",
    "\n",
    "        if \"kdehistplot\" in data[\"drilldowns\"][feature] and \"kde_x\" in data[\"drilldowns\"][feature][\"kdehistplot\"]:\n",
    "            # Extract the necessary data\n",
    "            hist = data[\"drilldowns\"][feature][\"kdehistplot\"][\"hist\"]\n",
    "            edges = data[\"drilldowns\"][feature][\"kdehistplot\"][\"plot_edges\"]\n",
    "            centers = data[\"drilldowns\"][feature][\"kdehistplot\"][\"plot_centers\"]\n",
    "            kde_x = data[\"drilldowns\"][feature][\"kdehistplot\"][\"kde_x\"]\n",
    "            kde = data[\"drilldowns\"][feature][\"kdehistplot\"][\"kde\"]\n",
    "\n",
    "            # Add traces for each date\n",
    "            fig.add_trace(\n",
    "                go.Bar(x=centers, y=hist, marker=dict(color='blue'), name=f'Histogram', opacity=0.75, visible=(i == 0))\n",
    "            )\n",
    "            fig.add_trace(\n",
    "                go.Scatter(x=kde_x, y=kde, mode='lines', line=dict(color='red'), name=f'KDE', visible=(i == 0))\n",
    "            )\n",
    "            trace_counter += 2\n",
    "            max_hist_value = max(hist)\n",
    "            max_kde_value = max(kde)\n",
    "            max_y_value = max(max_y_value, max_hist_value, max_kde_value)\n",
    "\n",
    "        elif \"kdehistplot\" in data[\"drilldowns\"][feature]:\n",
    "            hist = data[\"drilldowns\"][feature][\"kdehistplot\"][\"hist\"]\n",
    "            edges = data[\"drilldowns\"][feature][\"kdehistplot\"][\"plot_edges\"]\n",
    "            centers = data[\"drilldowns\"][feature][\"kdehistplot\"][\"plot_centers\"]\n",
    "\n",
    "            # Add traces for each date\n",
    "            fig.add_trace(\n",
    "                go.Bar(x=centers, y=hist, marker=dict(color='blue'), name=f'Histogram', opacity=0.75, visible=(i == 0))\n",
    "            )\n",
    "\n",
    "            trace_counter += 1\n",
    "            max_hist_value = max(hist)\n",
    "            max_y_value = max(max_y_value, max_hist_value, max_kde_value)\n",
    "\n",
    "        else:\n",
    "            # Categorical data processing\n",
    "            probability = data[\"drilldowns\"][feature][\"histogram\"][\"probability\"]\n",
    "            category_data = {cat: 0 for cat in all_categories}  # Initialize all categories with 0\n",
    "            for cat, prob in zip(data[\"drilldowns\"][feature][\"histogram\"][\"x\"], probability):\n",
    "                category_data[cat] = prob\n",
    "\n",
    "            fig.add_trace(\n",
    "                go.Bar(x=list(category_data.keys()), y=list(category_data.values()), marker=dict(color='blue'), name=f'Category Probability {date}', visible=(i == 0))\n",
    "            )\n",
    "            trace_counter += 1\n",
    "            max_y_value = max(max_y_value, max(probability))\n",
    "\n",
    "\n",
    "    # Create steps for the slider\n",
    "    steps = []\n",
    "    visibility_array = [False] * trace_counter\n",
    "\n",
    "    current_trace_index = 0\n",
    "    for i, date in enumerate(sorted_dates_filtered):\n",
    "        visible = visibility_array[:]\n",
    "        data = json.load(open(os.path.join(basepath, sorted_dates_filtered[i]), 'r'))\n",
    "        if \"kdehistplot\" in data[\"drilldowns\"][feature] and \"kde_x\" in data[\"drilldowns\"][feature][\"kdehistplot\"]:\n",
    "            visible[current_trace_index] = True\n",
    "            visible[current_trace_index + 1] = True\n",
    "            current_trace_index += 2\n",
    "\n",
    "        elif \"kdehistplot\" in data[\"drilldowns\"][feature]:\n",
    "            visible[current_trace_index] = True\n",
    "            current_trace_index += 1\n",
    "        else:\n",
    "            visible[current_trace_index] = True\n",
    "            current_trace_index += 1\n",
    "\n",
    "        steps.append({\n",
    "            'method': 'update',\n",
    "            'args': [{'visible': visible}, {'title': f\"Histogram for {feature} on {date.split('.')[0]}\"}],\n",
    "            'label': date.split('.')[0]\n",
    "        })\n",
    "    # Create and add slider\n",
    "    sliders = [dict(\n",
    "        active=0,\n",
    "        currentvalue={\"prefix\": \"Date: \"},\n",
    "        pad={\"t\": 80},\n",
    "        steps=steps\n",
    "    )]\n",
    "\n",
    "    fig.update_layout(\n",
    "        sliders=sliders,\n",
    "        title_text=f\"Histogram for {feature} on \" + sorted_dates_filtered[0],\n",
    "        height=600,\n",
    "        width=1000,\n",
    "        title_x=0.5, \n",
    "        title_y=0.9,\n",
    "    )\n",
    "    fig.update_yaxes(range=[0, max_y_value])\n",
    "\n",
    "    fig.write_html(os.path.join(output_dir,f'{feature}_histogram_interactive.html'))\n",
    "    #fig.show()"
   ]
  },
  {
   "cell_type": "markdown",
   "metadata": {},
   "source": [
    "# Analysis"
   ]
  },
  {
   "cell_type": "code",
   "execution_count": 61,
   "metadata": {},
   "outputs": [],
   "source": [
    "basepath = '/autofs/cluster/qtim/projects/xray_drift/drift_analyses/classification_final_allpoc_standarddrift/history/'"
   ]
  },
  {
   "cell_type": "code",
   "execution_count": 62,
   "metadata": {},
   "outputs": [
    {
     "data": {
      "text/plain": [
       "dict_keys(['activation.Atelectasis', 'activation.Cardiomegaly', 'activation.Consolidation', 'activation.Edema', 'activation.Lung Opacity', 'activation.Pleural Other', 'activation.Pleural Effusion', 'activation.Pneumonia', 'activation.Pneumothorax', 'activation.Support Devices', 'mu.000', 'mu.001', 'mu.002', 'mu.003', 'mu.004', 'mu.005', 'mu.006', 'mu.007', 'mu.008', 'mu.009', 'mu.010', 'mu.011', 'mu.012', 'mu.013', 'mu.014', 'mu.015', 'mu.016', 'mu.017', 'mu.018', 'mu.019', 'mu.020', 'mu.021', 'mu.022', 'mu.023', 'mu.024', 'mu.025', 'mu.026', 'mu.027', 'mu.028', 'mu.029', 'mu.030', 'mu.031', 'mu.032', 'mu.033', 'mu.034', 'mu.035', 'mu.036', 'mu.037', 'mu.038', 'mu.039', 'mu.040', 'mu.041', 'mu.042', 'mu.043', 'mu.044', 'mu.045', 'mu.046', 'mu.047', 'mu.048', 'mu.049', 'mu.050', 'mu.051', 'mu.052', 'mu.053', 'mu.054', 'mu.055', 'mu.056', 'mu.057', 'mu.058', 'mu.059', 'mu.060', 'mu.061', 'mu.062', 'mu.063', 'mu.064', 'mu.065', 'mu.066', 'mu.067', 'mu.068', 'mu.069', 'mu.070', 'mu.071', 'mu.072', 'mu.073', 'mu.074', 'mu.075', 'mu.076', 'mu.077', 'mu.078', 'mu.079', 'mu.080', 'mu.081', 'mu.082', 'mu.083', 'mu.084', 'mu.085', 'mu.086', 'mu.087', 'mu.088', 'mu.089', 'mu.090', 'mu.091', 'mu.092', 'mu.093', 'mu.094', 'mu.095', 'mu.096', 'mu.097', 'mu.098', 'mu.099', 'mu.100', 'mu.101', 'mu.102', 'mu.103', 'mu.104', 'mu.105', 'mu.106', 'mu.107', 'mu.108', 'mu.109', 'mu.110', 'mu.111', 'mu.112', 'mu.113', 'mu.114', 'mu.115', 'mu.116', 'mu.117', 'mu.118', 'mu.119', 'mu.120', 'mu.121', 'mu.122', 'mu.123', 'mu.124', 'mu.125', 'mu.126', 'mu.127', 'Modality', 'Manufacturer', 'KVP', 'PhotometricInterpretation', 'PixelRepresentation', 'PixelAspectRatio', 'BitsStored', 'Rows', 'Columns', 'XRayTubeCurrent', 'Exposure', 'RelativeXRayExposure', 'ExposureInuAs', 'ViewPosition', 'Point of Care', 'Patient Sex', 'Patient Age', 'Is Stat', 'Exam Code'])"
      ]
     },
     "execution_count": 62,
     "metadata": {},
     "output_type": "execute_result"
    }
   ],
   "source": [
    "date_json = os.path.join(basepath, '2020-07-01.json')\n",
    "with open(date_json, 'r') as f:\n",
    "    data = json.load(f)\n",
    "\n",
    "keys = data['drilldowns'].keys()\n",
    "keys"
   ]
  },
  {
   "cell_type": "code",
   "execution_count": 63,
   "metadata": {},
   "outputs": [
    {
     "name": "stdout",
     "output_type": "stream",
     "text": [
      "present\n"
     ]
    }
   ],
   "source": [
    "if keys:\n",
    "    print(\"present\")\n",
    "else:\n",
    "    print(\"empty\")"
   ]
  },
  {
   "cell_type": "code",
   "execution_count": 52,
   "metadata": {},
   "outputs": [],
   "source": [
    "keys = ['Is Stat', 'Exam Code']"
   ]
  },
  {
   "cell_type": "code",
   "execution_count": 41,
   "metadata": {},
   "outputs": [
    {
     "data": {
      "text/plain": [
       "PosixPath('/autofs/cluster/qtim/projects/xray_drift/drift_analyses/classification_final_allpoc_standarddrift_PLOTS/histograms')"
      ]
     },
     "execution_count": 41,
     "metadata": {},
     "output_type": "execute_result"
    }
   ],
   "source": [
    "output_dir = '/autofs/cluster/qtim/projects/xray_drift/drift_analyses/classification_final_allpoc_standarddrift_PLOTS/histograms'\n",
    "\n",
    "output_dir = Path(output_dir)\n",
    "output_dir.mkdir(parents=True, exist_ok=True)\n",
    "output_dir"
   ]
  },
  {
   "cell_type": "code",
   "execution_count": 55,
   "metadata": {},
   "outputs": [],
   "source": [
    "from tqdm import tqdm"
   ]
  },
  {
   "cell_type": "code",
   "execution_count": 56,
   "metadata": {},
   "outputs": [
    {
     "name": "stderr",
     "output_type": "stream",
     "text": [
      "  0%|          | 0/2 [00:08<?, ?it/s]\n"
     ]
    },
    {
     "ename": "KeyboardInterrupt",
     "evalue": "",
     "output_type": "error",
     "traceback": [
      "\u001b[0;31m---------------------------------------------------------------------------\u001b[0m",
      "\u001b[0;31mKeyboardInterrupt\u001b[0m                         Traceback (most recent call last)",
      "\u001b[0;32m/local_mount/space/glacier/2/scratch/ipykernel_3725877/4245138548.py\u001b[0m in \u001b[0;36m<module>\u001b[0;34m\u001b[0m\n\u001b[1;32m      1\u001b[0m \u001b[0;32mfor\u001b[0m \u001b[0mk\u001b[0m \u001b[0;32min\u001b[0m \u001b[0mtqdm\u001b[0m\u001b[0;34m(\u001b[0m\u001b[0mkeys\u001b[0m\u001b[0;34m)\u001b[0m\u001b[0;34m:\u001b[0m\u001b[0;34m\u001b[0m\u001b[0;34m\u001b[0m\u001b[0m\n\u001b[0;32m----> 2\u001b[0;31m     \u001b[0mplot_hist_feature\u001b[0m\u001b[0;34m(\u001b[0m\u001b[0mk\u001b[0m\u001b[0;34m,\u001b[0m \u001b[0mbasepath\u001b[0m \u001b[0;34m=\u001b[0m \u001b[0mbasepath\u001b[0m\u001b[0;34m,\u001b[0m \u001b[0moutput_dir\u001b[0m\u001b[0;34m=\u001b[0m\u001b[0moutput_dir\u001b[0m\u001b[0;34m)\u001b[0m\u001b[0;34m\u001b[0m\u001b[0;34m\u001b[0m\u001b[0m\n\u001b[0m",
      "\u001b[0;32m/local_mount/space/glacier/2/scratch/ipykernel_3725877/2967050091.py\u001b[0m in \u001b[0;36mplot_hist_feature\u001b[0;34m(feature, basepath, output_dir)\u001b[0m\n\u001b[1;32m     87\u001b[0m     \u001b[0;32mfor\u001b[0m \u001b[0mi\u001b[0m\u001b[0;34m,\u001b[0m \u001b[0mdate\u001b[0m \u001b[0;32min\u001b[0m \u001b[0menumerate\u001b[0m\u001b[0;34m(\u001b[0m\u001b[0msorted_dates_filtered\u001b[0m\u001b[0;34m)\u001b[0m\u001b[0;34m:\u001b[0m\u001b[0;34m\u001b[0m\u001b[0;34m\u001b[0m\u001b[0m\n\u001b[1;32m     88\u001b[0m         \u001b[0mvisible\u001b[0m \u001b[0;34m=\u001b[0m \u001b[0mvisibility_array\u001b[0m\u001b[0;34m[\u001b[0m\u001b[0;34m:\u001b[0m\u001b[0;34m]\u001b[0m\u001b[0;34m\u001b[0m\u001b[0;34m\u001b[0m\u001b[0m\n\u001b[0;32m---> 89\u001b[0;31m         \u001b[0mdata\u001b[0m \u001b[0;34m=\u001b[0m \u001b[0mjson\u001b[0m\u001b[0;34m.\u001b[0m\u001b[0mload\u001b[0m\u001b[0;34m(\u001b[0m\u001b[0mopen\u001b[0m\u001b[0;34m(\u001b[0m\u001b[0mos\u001b[0m\u001b[0;34m.\u001b[0m\u001b[0mpath\u001b[0m\u001b[0;34m.\u001b[0m\u001b[0mjoin\u001b[0m\u001b[0;34m(\u001b[0m\u001b[0mbasepath\u001b[0m\u001b[0;34m,\u001b[0m \u001b[0msorted_dates_filtered\u001b[0m\u001b[0;34m[\u001b[0m\u001b[0mi\u001b[0m\u001b[0;34m]\u001b[0m\u001b[0;34m)\u001b[0m\u001b[0;34m,\u001b[0m \u001b[0;34m'r'\u001b[0m\u001b[0;34m)\u001b[0m\u001b[0;34m)\u001b[0m\u001b[0;34m\u001b[0m\u001b[0;34m\u001b[0m\u001b[0m\n\u001b[0m\u001b[1;32m     90\u001b[0m         \u001b[0;32mif\u001b[0m \u001b[0;34m\"kdehistplot\"\u001b[0m \u001b[0;32min\u001b[0m \u001b[0mdata\u001b[0m\u001b[0;34m[\u001b[0m\u001b[0;34m\"drilldowns\"\u001b[0m\u001b[0;34m]\u001b[0m\u001b[0;34m[\u001b[0m\u001b[0mfeature\u001b[0m\u001b[0;34m]\u001b[0m \u001b[0;32mand\u001b[0m \u001b[0;34m\"kde_x\"\u001b[0m \u001b[0;32min\u001b[0m \u001b[0mdata\u001b[0m\u001b[0;34m[\u001b[0m\u001b[0;34m\"drilldowns\"\u001b[0m\u001b[0;34m]\u001b[0m\u001b[0;34m[\u001b[0m\u001b[0mfeature\u001b[0m\u001b[0;34m]\u001b[0m\u001b[0;34m[\u001b[0m\u001b[0;34m\"kdehistplot\"\u001b[0m\u001b[0;34m]\u001b[0m\u001b[0;34m:\u001b[0m\u001b[0;34m\u001b[0m\u001b[0;34m\u001b[0m\u001b[0m\n\u001b[1;32m     91\u001b[0m             \u001b[0mvisible\u001b[0m\u001b[0;34m[\u001b[0m\u001b[0mcurrent_trace_index\u001b[0m\u001b[0;34m]\u001b[0m \u001b[0;34m=\u001b[0m \u001b[0;32mTrue\u001b[0m\u001b[0;34m\u001b[0m\u001b[0;34m\u001b[0m\u001b[0m\n",
      "\u001b[0;32m/autofs/vast/qtim/tools/pyenv/versions/3.7.6/lib/python3.7/json/__init__.py\u001b[0m in \u001b[0;36mload\u001b[0;34m(fp, cls, object_hook, parse_float, parse_int, parse_constant, object_pairs_hook, **kw)\u001b[0m\n\u001b[1;32m    294\u001b[0m         \u001b[0mcls\u001b[0m\u001b[0;34m=\u001b[0m\u001b[0mcls\u001b[0m\u001b[0;34m,\u001b[0m \u001b[0mobject_hook\u001b[0m\u001b[0;34m=\u001b[0m\u001b[0mobject_hook\u001b[0m\u001b[0;34m,\u001b[0m\u001b[0;34m\u001b[0m\u001b[0;34m\u001b[0m\u001b[0m\n\u001b[1;32m    295\u001b[0m         \u001b[0mparse_float\u001b[0m\u001b[0;34m=\u001b[0m\u001b[0mparse_float\u001b[0m\u001b[0;34m,\u001b[0m \u001b[0mparse_int\u001b[0m\u001b[0;34m=\u001b[0m\u001b[0mparse_int\u001b[0m\u001b[0;34m,\u001b[0m\u001b[0;34m\u001b[0m\u001b[0;34m\u001b[0m\u001b[0m\n\u001b[0;32m--> 296\u001b[0;31m         parse_constant=parse_constant, object_pairs_hook=object_pairs_hook, **kw)\n\u001b[0m\u001b[1;32m    297\u001b[0m \u001b[0;34m\u001b[0m\u001b[0m\n\u001b[1;32m    298\u001b[0m \u001b[0;34m\u001b[0m\u001b[0m\n",
      "\u001b[0;32m/autofs/vast/qtim/tools/pyenv/versions/3.7.6/lib/python3.7/json/__init__.py\u001b[0m in \u001b[0;36mloads\u001b[0;34m(s, encoding, cls, object_hook, parse_float, parse_int, parse_constant, object_pairs_hook, **kw)\u001b[0m\n\u001b[1;32m    346\u001b[0m             \u001b[0mparse_int\u001b[0m \u001b[0;32mis\u001b[0m \u001b[0;32mNone\u001b[0m \u001b[0;32mand\u001b[0m \u001b[0mparse_float\u001b[0m \u001b[0;32mis\u001b[0m \u001b[0;32mNone\u001b[0m \u001b[0;32mand\u001b[0m\u001b[0;34m\u001b[0m\u001b[0;34m\u001b[0m\u001b[0m\n\u001b[1;32m    347\u001b[0m             parse_constant is None and object_pairs_hook is None and not kw):\n\u001b[0;32m--> 348\u001b[0;31m         \u001b[0;32mreturn\u001b[0m \u001b[0m_default_decoder\u001b[0m\u001b[0;34m.\u001b[0m\u001b[0mdecode\u001b[0m\u001b[0;34m(\u001b[0m\u001b[0ms\u001b[0m\u001b[0;34m)\u001b[0m\u001b[0;34m\u001b[0m\u001b[0;34m\u001b[0m\u001b[0m\n\u001b[0m\u001b[1;32m    349\u001b[0m     \u001b[0;32mif\u001b[0m \u001b[0mcls\u001b[0m \u001b[0;32mis\u001b[0m \u001b[0;32mNone\u001b[0m\u001b[0;34m:\u001b[0m\u001b[0;34m\u001b[0m\u001b[0;34m\u001b[0m\u001b[0m\n\u001b[1;32m    350\u001b[0m         \u001b[0mcls\u001b[0m \u001b[0;34m=\u001b[0m \u001b[0mJSONDecoder\u001b[0m\u001b[0;34m\u001b[0m\u001b[0;34m\u001b[0m\u001b[0m\n",
      "\u001b[0;32m/autofs/vast/qtim/tools/pyenv/versions/3.7.6/lib/python3.7/json/decoder.py\u001b[0m in \u001b[0;36mdecode\u001b[0;34m(self, s, _w)\u001b[0m\n\u001b[1;32m    335\u001b[0m \u001b[0;34m\u001b[0m\u001b[0m\n\u001b[1;32m    336\u001b[0m         \"\"\"\n\u001b[0;32m--> 337\u001b[0;31m         \u001b[0mobj\u001b[0m\u001b[0;34m,\u001b[0m \u001b[0mend\u001b[0m \u001b[0;34m=\u001b[0m \u001b[0mself\u001b[0m\u001b[0;34m.\u001b[0m\u001b[0mraw_decode\u001b[0m\u001b[0;34m(\u001b[0m\u001b[0ms\u001b[0m\u001b[0;34m,\u001b[0m \u001b[0midx\u001b[0m\u001b[0;34m=\u001b[0m\u001b[0m_w\u001b[0m\u001b[0;34m(\u001b[0m\u001b[0ms\u001b[0m\u001b[0;34m,\u001b[0m \u001b[0;36m0\u001b[0m\u001b[0;34m)\u001b[0m\u001b[0;34m.\u001b[0m\u001b[0mend\u001b[0m\u001b[0;34m(\u001b[0m\u001b[0;34m)\u001b[0m\u001b[0;34m)\u001b[0m\u001b[0;34m\u001b[0m\u001b[0;34m\u001b[0m\u001b[0m\n\u001b[0m\u001b[1;32m    338\u001b[0m         \u001b[0mend\u001b[0m \u001b[0;34m=\u001b[0m \u001b[0m_w\u001b[0m\u001b[0;34m(\u001b[0m\u001b[0ms\u001b[0m\u001b[0;34m,\u001b[0m \u001b[0mend\u001b[0m\u001b[0;34m)\u001b[0m\u001b[0;34m.\u001b[0m\u001b[0mend\u001b[0m\u001b[0;34m(\u001b[0m\u001b[0;34m)\u001b[0m\u001b[0;34m\u001b[0m\u001b[0;34m\u001b[0m\u001b[0m\n\u001b[1;32m    339\u001b[0m         \u001b[0;32mif\u001b[0m \u001b[0mend\u001b[0m \u001b[0;34m!=\u001b[0m \u001b[0mlen\u001b[0m\u001b[0;34m(\u001b[0m\u001b[0ms\u001b[0m\u001b[0;34m)\u001b[0m\u001b[0;34m:\u001b[0m\u001b[0;34m\u001b[0m\u001b[0;34m\u001b[0m\u001b[0m\n",
      "\u001b[0;32m/autofs/vast/qtim/tools/pyenv/versions/3.7.6/lib/python3.7/json/decoder.py\u001b[0m in \u001b[0;36mraw_decode\u001b[0;34m(self, s, idx)\u001b[0m\n\u001b[1;32m    351\u001b[0m         \"\"\"\n\u001b[1;32m    352\u001b[0m         \u001b[0;32mtry\u001b[0m\u001b[0;34m:\u001b[0m\u001b[0;34m\u001b[0m\u001b[0;34m\u001b[0m\u001b[0m\n\u001b[0;32m--> 353\u001b[0;31m             \u001b[0mobj\u001b[0m\u001b[0;34m,\u001b[0m \u001b[0mend\u001b[0m \u001b[0;34m=\u001b[0m \u001b[0mself\u001b[0m\u001b[0;34m.\u001b[0m\u001b[0mscan_once\u001b[0m\u001b[0;34m(\u001b[0m\u001b[0ms\u001b[0m\u001b[0;34m,\u001b[0m \u001b[0midx\u001b[0m\u001b[0;34m)\u001b[0m\u001b[0;34m\u001b[0m\u001b[0;34m\u001b[0m\u001b[0m\n\u001b[0m\u001b[1;32m    354\u001b[0m         \u001b[0;32mexcept\u001b[0m \u001b[0mStopIteration\u001b[0m \u001b[0;32mas\u001b[0m \u001b[0merr\u001b[0m\u001b[0;34m:\u001b[0m\u001b[0;34m\u001b[0m\u001b[0;34m\u001b[0m\u001b[0m\n\u001b[1;32m    355\u001b[0m             \u001b[0;32mraise\u001b[0m \u001b[0mJSONDecodeError\u001b[0m\u001b[0;34m(\u001b[0m\u001b[0;34m\"Expecting value\"\u001b[0m\u001b[0;34m,\u001b[0m \u001b[0ms\u001b[0m\u001b[0;34m,\u001b[0m \u001b[0merr\u001b[0m\u001b[0;34m.\u001b[0m\u001b[0mvalue\u001b[0m\u001b[0;34m)\u001b[0m \u001b[0;32mfrom\u001b[0m \u001b[0;32mNone\u001b[0m\u001b[0;34m\u001b[0m\u001b[0;34m\u001b[0m\u001b[0m\n",
      "\u001b[0;31mKeyboardInterrupt\u001b[0m: "
     ]
    }
   ],
   "source": [
    "for k in tqdm(keys, desc=\"Creating Histograms\"):\n",
    "    plot_hist_feature(k, basepath = basepath, output_dir=output_dir)\n"
   ]
  },
  {
   "cell_type": "code",
   "execution_count": null,
   "metadata": {},
   "outputs": [],
   "source": []
  }
 ],
 "metadata": {
  "kernelspec": {
   "display_name": "med-image-drift",
   "language": "python",
   "name": "python3"
  },
  "language_info": {
   "codemirror_mode": {
    "name": "ipython",
    "version": 3
   },
   "file_extension": ".py",
   "mimetype": "text/x-python",
   "name": "python",
   "nbconvert_exporter": "python",
   "pygments_lexer": "ipython3",
   "version": "3.7.6"
  }
 },
 "nbformat": 4,
 "nbformat_minor": 2
}
