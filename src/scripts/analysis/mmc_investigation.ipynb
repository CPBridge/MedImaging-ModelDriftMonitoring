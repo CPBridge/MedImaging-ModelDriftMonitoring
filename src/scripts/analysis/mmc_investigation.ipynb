{
 "cells": [
  {
   "cell_type": "code",
   "execution_count": null,
   "metadata": {},
   "outputs": [],
   "source": [
    "import sys\n",
    "sys.path.append('/autofs/homes/005/fd881/repos/MedImaging-ModelDriftMonitoring/')\n"
   ]
  },
  {
   "cell_type": "code",
   "execution_count": null,
   "metadata": {},
   "outputs": [],
   "source": [
    "import warnings\n",
    "warnings.filterwarnings(\"ignore\")\n"
   ]
  },
  {
   "cell_type": "code",
   "execution_count": null,
   "metadata": {},
   "outputs": [],
   "source": [
    "from pathlib import Path\n",
    "import pandas as pd\n",
    "\n",
    "#import click\n",
    "#import plotnine\n",
    "from pycrumbs import tracked\n",
    "\n",
    "from src.model_drift.data import mgb_data\n",
    "import numpy as np\n",
    "import matplotlib.pyplot as plt\n",
    "import seaborn as sn"
   ]
  },
  {
   "cell_type": "code",
   "execution_count": null,
   "metadata": {},
   "outputs": [],
   "source": [
    "import os\n",
    "os.getcwd()"
   ]
  },
  {
   "cell_type": "code",
   "execution_count": null,
   "metadata": {},
   "outputs": [],
   "source": [
    "#perf_cols = [\n",
    "#    col for col in df.columns\n",
    "#    if  col[0].startswith('performance')\n",
    "#]"
   ]
  },
  {
   "cell_type": "code",
   "execution_count": null,
   "metadata": {},
   "outputs": [],
   "source": [
    "df = pd.read_csv(\"/autofs/cluster/qtim/projects/xray_drift/drift_analyses/bad_good_q_05/output.csv\", header=[0, 1, 2, 3])\n",
    "# The date column gets read in with a stupid name\n",
    "date_col = tuple(f'Unnamed: 0_level_{i}' for i in range(4))\n",
    "performance_col = ('performance', 'micro avg', 'auroc', 'mean')\n",
    "\n",
    "df[date_col] = pd.to_datetime(df[date_col])\n",
    "df.head()\n"
   ]
  },
  {
   "cell_type": "code",
   "execution_count": null,
   "metadata": {},
   "outputs": [],
   "source": [
    "date_col_df = df[date_col]"
   ]
  },
  {
   "cell_type": "code",
   "execution_count": null,
   "metadata": {},
   "outputs": [],
   "source": [
    "mmc_cols = [\n",
    "    col for col in df.columns\n",
    "    if not col[0].startswith('performance')\n",
    "    and col[2] == 'distance'\n",
    "    and col[3] == 'mean'\n",
    "]\n",
    "mmc_df = df[mmc_cols + [date_col]+ [performance_col]].copy()\n",
    "ref_df_weights = mmc_df[mmc_df[date_col] < mgb_data.VAL_DATE_END].copy()\n",
    "mmc_df.drop(columns=[performance_col], inplace=True)\n",
    "ref_df = mmc_df[mmc_df[date_col] < mgb_data.VAL_DATE_END].copy()\n"
   ]
  },
  {
   "cell_type": "code",
   "execution_count": null,
   "metadata": {},
   "outputs": [],
   "source": [
    "for c in mmc_cols:\n",
    "    mmc_df[c] = (mmc_df[c] - ref_df[c].mean()) / ref_df[c].std()\n",
    "mmc_df['mmc'] = mmc_df.drop(date_col, axis=1).mean(axis=1)\n"
   ]
  },
  {
   "cell_type": "code",
   "execution_count": null,
   "metadata": {},
   "outputs": [],
   "source": [
    "#col_to_move = ref_df.pop(date_col)\n",
    "#ref_df.insert(0, date_col, col_to_move)\n",
    "#ref_df.head()"
   ]
  },
  {
   "cell_type": "code",
   "execution_count": null,
   "metadata": {},
   "outputs": [],
   "source": [
    "correlation_matrix = ref_df_weights.corr()\n",
    "\n",
    "# To get correlation with the performance column specifically\n",
    "performance_correlation = correlation_matrix[performance_col]\n",
    "\n",
    "performance_correlation_df = pd.DataFrame(performance_correlation)\n",
    "performance_correlation_df.head(5)\n"
   ]
  },
  {
   "cell_type": "code",
   "execution_count": null,
   "metadata": {},
   "outputs": [],
   "source": [
    "column_name = performance_correlation_df.columns"
   ]
  },
  {
   "cell_type": "code",
   "execution_count": null,
   "metadata": {},
   "outputs": [],
   "source": [
    "# examine values with largest correlation\n",
    "\n",
    "print(\"Largest values:\")\n",
    "print(performance_correlation_df.nlargest(10, column_name))\n",
    "\n",
    "print(\"\\nSmallest values:\")\n",
    "print(performance_correlation_df.nsmallest(10, column_name))"
   ]
  },
  {
   "cell_type": "code",
   "execution_count": null,
   "metadata": {},
   "outputs": [],
   "source": [
    "plot_df = performance_correlation_df.reset_index()\n",
    "plot_df.columns = ['_'.join(col).strip() if isinstance(col, tuple) else col for col in plot_df.columns]\n",
    "plot_df.drop(columns=[\"level_1___\", \"level_2___\", \"level_3___\"], inplace=True)\n",
    "plot_df.columns = [\"Metric\", \"Avg_F1_mean\"]"
   ]
  },
  {
   "cell_type": "code",
   "execution_count": null,
   "metadata": {},
   "outputs": [],
   "source": [
    "weights= plot_df[\"Avg_F1_mean\"].to_list()"
   ]
  },
  {
   "cell_type": "code",
   "execution_count": null,
   "metadata": {},
   "outputs": [],
   "source": [
    "sn.barplot(x=plot_df.columns[0], y='Avg_F1_mean', data=plot_df)\n"
   ]
  },
  {
   "cell_type": "code",
   "execution_count": null,
   "metadata": {},
   "outputs": [],
   "source": [
    "mmc_df_backup = mmc_df.copy()\n",
    "mmc_df = mmc_df.iloc[:,:-2].astype(float)"
   ]
  },
  {
   "cell_type": "code",
   "execution_count": null,
   "metadata": {},
   "outputs": [],
   "source": [
    "weighted_df = mmc_df * weights[:-2]\n",
    "weighted_df"
   ]
  },
  {
   "cell_type": "code",
   "execution_count": null,
   "metadata": {},
   "outputs": [],
   "source": [
    "weighted_df['mmc'] = weighted_df.mean(axis=1)\n",
    "weighted_df = weighted_df.join(date_col_df)"
   ]
  },
  {
   "cell_type": "code",
   "execution_count": null,
   "metadata": {},
   "outputs": [],
   "source": [
    "smoothing_window = 5\n",
    "\n",
    "large_smoothing_window = 50\n",
    "delay = round(large_smoothing_window/2)\n",
    "weighted_df['mmc_moving'] = weighted_df['mmc'].rolling(window=smoothing_window).mean()\n",
    "weighted_df['mmc_moving_100'] = weighted_df['mmc'].rolling(window=large_smoothing_window).mean()\n",
    "weighted_df['filtered_adjusted'] = weighted_df['mmc_moving_100'].shift(-delay)\n",
    "\n",
    "\n",
    "mmc_df_backup['mmc_moving'] = mmc_df_backup['mmc'].rolling(window=smoothing_window).mean()\n",
    "mmc_df_backup['mmc_moving_100'] = mmc_df_backup['mmc'].rolling(window=large_smoothing_window).mean()\n",
    "mmc_df_backup['filtered_adjusted'] = mmc_df_backup['mmc_moving_100'].shift(-delay)\n",
    "\n",
    "df['auroc_moving'] = df[performance_col].rolling(window=smoothing_window).mean()\n",
    "\n",
    "\n",
    "sn.lineplot(x=weighted_df[date_col], y=weighted_df['mmc_moving_100'])\n",
    "plt.xticks(rotation=45)  # You can adjust the rotation angle as needed\n",
    "plt.show()"
   ]
  },
  {
   "cell_type": "code",
   "execution_count": null,
   "metadata": {},
   "outputs": [],
   "source": [
    "fig, ax1 = plt.subplots()\n",
    "\n",
    "sn.lineplot(x=weighted_df[date_col], y=weighted_df['mmc'], ax=ax1, color='b', alpha=0.7)\n",
    "sn.lineplot(x=weighted_df[date_col], y=weighted_df['filtered_adjusted'], ax=ax1, color='grey', alpha=0.7)\n",
    "\n",
    "\n",
    "ax1.set_ylabel('MMC', color='b')\n",
    "ax1.tick_params(axis='x', rotation=45)\n",
    "ax1.set_xlabel('Date', color='black')\n",
    "\n",
    "ax2 = ax1.twinx()\n",
    "\n",
    "sn.lineplot(x=df[date_col], y=df[performance_col], ax=ax2, color='r', alpha=0.7)\n",
    "\n",
    "ax2.set_ylabel('AUROC', color='r')\n",
    "\n",
    "\n",
    "plt.xticks(rotation=45)  # You can adjust the rotation angle as needed\n",
    "plt.show()"
   ]
  },
  {
   "cell_type": "code",
   "execution_count": null,
   "metadata": {},
   "outputs": [],
   "source": [
    "fig, ax1 = plt.subplots()\n",
    "\n",
    "sn.lineplot(x=mmc_df_backup[date_col], y=mmc_df_backup['mmc_moving'], ax=ax1, color='b', alpha=0.7)\n",
    "sn.lineplot(x=mmc_df_backup[date_col], y=mmc_df_backup['mmc_moving'], ax=ax1, color='b', alpha=0.7)\n",
    "\n",
    "ax1.set_ylabel('MMC', color='b')\n",
    "ax1.tick_params(axis='x', rotation=45)\n",
    "ax1.set_xlabel('Date', color='black')\n",
    "\n",
    "ax2 = ax1.twinx()\n",
    "\n",
    "sn.lineplot(x=df[date_col], y=df['auroc_moving'], ax=ax2, color='r', alpha=0.7)\n",
    "ax2.set_ylabel('AUROC', color='r')\n",
    "\n",
    "\n",
    "plt.xticks(rotation=45)  # You can adjust the rotation angle as needed\n",
    "plt.show()"
   ]
  },
  {
   "cell_type": "code",
   "execution_count": null,
   "metadata": {},
   "outputs": [],
   "source": [
    "fig, ax1 = plt.subplots()\n",
    "\n",
    "sn.lineplot(x=mmc_df_backup[date_col], y=mmc_df_backup['mmc'], ax=ax1, color='b', alpha=0.7)\n",
    "ax1.set_ylabel('MMC', color='b')\n",
    "ax1.tick_params(axis='x', rotation=45)\n",
    "ax1.set_xlabel('Date', color='black')\n",
    "\n",
    "ax2 = ax1.twinx()\n",
    "\n",
    "sn.lineplot(x=weighted_df[date_col], y=weighted_df['mmc'], ax=ax2, color='g', alpha=0.7)\n",
    "ax2.set_ylabel('weighted MMC', color='g')\n",
    "\n",
    "\n",
    "plt.xticks(rotation=45)  # You can adjust the rotation angle as needed\n",
    "plt.show()"
   ]
  },
  {
   "cell_type": "code",
   "execution_count": null,
   "metadata": {},
   "outputs": [],
   "source": [
    "\n",
    "fig, ax1 = plt.subplots()\n",
    "\n",
    "sn.lineplot(x=df[date_col], y=df[('performance', 'micro avg', 'auroc', 'mean')\n",
    "], ax=ax1, color='b', alpha=0.7, label=\"micro AUROC\")\n",
    "ax1.set_ylabel('Score', color='black')\n",
    "ax1.tick_params(axis='x', rotation=45)\n",
    "ax1.set_xlabel('Date', color='black')\n",
    "\n",
    "ax2 = ax1.twinx()\n",
    "\n",
    "sn.lineplot(x=df[date_col], y=df[('performance', 'macro avg', 'auroc', 'mean')\n",
    "], ax=ax1, color='r', alpha=0.7, label=\"micro AUROC\")\n",
    "\n",
    "sn.lineplot(x=df[date_col], y=df[('performance', 'macro avg', 'f1-score', 'mean')\n",
    "], ax=ax1, color='g', alpha=0.7, label=\"f1-score\")\n",
    "\n",
    "plt.legend()\n",
    "\n",
    "plt.xticks(rotation=45)  # You can adjust the rotation angle as needed\n",
    "plt.show()"
   ]
  },
  {
   "cell_type": "code",
   "execution_count": null,
   "metadata": {},
   "outputs": [],
   "source": []
  }
 ],
 "metadata": {
  "kernelspec": {
   "display_name": "xray-drift-nlp",
   "language": "python",
   "name": "xray-drift-nlp"
  },
  "language_info": {
   "codemirror_mode": {
    "name": "ipython",
    "version": 3
   },
   "file_extension": ".py",
   "mimetype": "text/x-python",
   "name": "python",
   "nbconvert_exporter": "python",
   "pygments_lexer": "ipython3",
   "version": "3.11.2"
  }
 },
 "nbformat": 4,
 "nbformat_minor": 2
}
