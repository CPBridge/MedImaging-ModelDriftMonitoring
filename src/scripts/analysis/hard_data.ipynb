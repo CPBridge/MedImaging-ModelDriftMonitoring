{
 "cells": [
  {
   "cell_type": "code",
   "execution_count": 9,
   "metadata": {},
   "outputs": [],
   "source": [
    "import pandas as pd\n",
    "import json "
   ]
  },
  {
   "cell_type": "code",
   "execution_count": 10,
   "metadata": {},
   "outputs": [],
   "source": [
    "preds_file_path = '/autofs/cluster/qtim/projects/xray_drift/inferences/mgb_data_from_chexpert_retrain_frontal_only_lr1e-4_frozen_step25/preds.jsonl'"
   ]
  },
  {
   "cell_type": "code",
   "execution_count": 12,
   "metadata": {},
   "outputs": [],
   "source": [
    "data = []\n",
    "with open(preds_file_path, 'r') as file:\n",
    "    for line in file:\n",
    "        data.append(json.loads(line))\n",
    "preds_df = pd.DataFrame(data)\n"
   ]
  },
  {
   "cell_type": "code",
   "execution_count": 37,
   "metadata": {},
   "outputs": [],
   "source": [
    "results = []\n",
    "for index, row in preds_df.iterrows():\n",
    "    confident_wrong = []\n",
    "    for activation, label in zip(row['activation'], row['label']):\n",
    "        if (activation > 0.75 and label == 0) or (activation < 0.25 and label == 1):\n",
    "            confident_wrong.append((activation, label))\n",
    "    results.append([row['index'], len(confident_wrong)])\n",
    "confidently_wrong_df = pd.DataFrame(results, columns=['index', 'num_wrong_preds'])\n",
    "confidently_wrong_df = confidently_wrong_df.sort_values(by=\"num_wrong_preds\", ascending=False)\n"
   ]
  },
  {
   "cell_type": "code",
   "execution_count": 40,
   "metadata": {},
   "outputs": [
    {
     "name": "stdout",
     "output_type": "stream",
     "text": [
      "0    124903\n",
      "1     39672\n",
      "2     15011\n",
      "3      5156\n",
      "4      1163\n",
      "5       122\n",
      "6         8\n",
      "Name: num_wrong_preds, dtype: int64\n"
     ]
    }
   ],
   "source": [
    "print(confidently_wrong_df[\"num_wrong_preds\"].value_counts())\n",
    "\n",
    "\n"
   ]
  }
 ],
 "metadata": {
  "kernelspec": {
   "display_name": "med-image-drift",
   "language": "python",
   "name": "python3"
  },
  "language_info": {
   "codemirror_mode": {
    "name": "ipython",
    "version": 3
   },
   "file_extension": ".py",
   "mimetype": "text/x-python",
   "name": "python",
   "nbconvert_exporter": "python",
   "pygments_lexer": "ipython3",
   "version": "3.7.6"
  }
 },
 "nbformat": 4,
 "nbformat_minor": 2
}
